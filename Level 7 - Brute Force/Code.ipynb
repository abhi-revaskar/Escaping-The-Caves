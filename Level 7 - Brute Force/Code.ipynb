{
 "cells": [
  {
   "cell_type": "code",
   "execution_count": 6,
   "id": "7a1ba5bf",
   "metadata": {
    "id": "7a1ba5bf"
   },
   "outputs": [],
   "source": [
    "from itertools import combinations_with_replacement"
   ]
  },
  {
   "cell_type": "code",
   "execution_count": 7,
   "id": "ccf60c6b",
   "metadata": {
    "id": "ccf60c6b"
   },
   "outputs": [],
   "source": [
    "l=[i for i in range(102,118)]"
   ]
  },
  {
   "cell_type": "code",
   "execution_count": 8,
   "id": "8e12ff26",
   "metadata": {
    "id": "8e12ff26"
   },
   "outputs": [],
   "source": [
    "hashes=[20,22,116,8,88,110,54,118,94,123,80,6,11,44,43,123,101,84,91,83,30,8,1,7,77,102,10,22,115,6,54,64]"
   ]
  },
  {
   "cell_type": "code",
   "execution_count": 9,
   "id": "6bb6e272",
   "metadata": {
    "id": "6bb6e272"
   },
   "outputs": [],
   "source": [
    "ans=combinations_with_replacement(l,20)"
   ]
  },
  {
   "cell_type": "code",
   "execution_count": 10,
   "id": "ec756b2e",
   "metadata": {
    "id": "ec756b2e"
   },
   "outputs": [],
   "source": [
    "def found(l):\n",
    "    for i in range(16):\n",
    "        add=sum([pow(j,i,127) for j in l])%127\n",
    "        if add!=hashes[i]:\n",
    "            return False\n",
    "    print(l)\n",
    "    return True"
   ]
  },
  {
   "cell_type": "code",
   "execution_count": null,
   "id": "593b0d0e",
   "metadata": {
    "colab": {
     "base_uri": "https://localhost:8080/"
    },
    "id": "593b0d0e",
    "outputId": "7f317168-f639-465b-c483-1e417c558a19"
   },
   "outputs": [
    {
     "name": "stdout",
     "output_type": "stream",
     "text": [
      "(102, 102, 104, 104, 105, 105, 107, 107, 107, 108, 109, 111, 111, 112, 113, 113, 114, 115, 115, 117)\n"
     ]
    }
   ],
   "source": [
    "for i in ans:\n",
    "    if found(i):\n",
    "        li=list(i)\n",
    "        break"
   ]
  },
  {
   "cell_type": "code",
   "execution_count": 9,
   "id": "39ed28b8",
   "metadata": {},
   "outputs": [
    {
     "name": "stdout",
     "output_type": "stream",
     "text": [
      "Password is ffhhiikkklmoopqqrssu\n"
     ]
    }
   ],
   "source": [
    "s=\"\"\n",
    "for i in li:\n",
    "    s+=(chr(i))\n",
    "print(\"Password is\",s)"
   ]
  },
  {
   "cell_type": "code",
   "execution_count": null,
   "id": "3b48b394",
   "metadata": {},
   "outputs": [],
   "source": []
  }
 ],
 "metadata": {
  "colab": {
   "name": "Untitled.ipynb",
   "provenance": []
  },
  "kernelspec": {
   "display_name": "Python 3 (ipykernel)",
   "language": "python",
   "name": "python3"
  },
  "language_info": {
   "codemirror_mode": {
    "name": "ipython",
    "version": 3
   },
   "file_extension": ".py",
   "mimetype": "text/x-python",
   "name": "python",
   "nbconvert_exporter": "python",
   "pygments_lexer": "ipython3",
   "version": "3.9.7"
  }
 },
 "nbformat": 4,
 "nbformat_minor": 5
}
