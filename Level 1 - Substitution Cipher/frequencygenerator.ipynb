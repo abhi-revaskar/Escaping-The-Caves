{
 "cells": [
  {
   "cell_type": "code",
   "execution_count": 27,
   "id": "e7012225",
   "metadata": {},
   "outputs": [],
   "source": [
    "s=\"\"\"omkf pi hdn cmgef icphsck .H krg vphqkc c, \n",
    "fic mco kqgf ioqag eo qfcmckf oq ficpihdn cm \n",
    ".Kg dcgeficu hfcm pi hdn cmklo uuncdgmc oqfc mc \n",
    "kfoq afihqfiokgq c!Fi cpgy cvkc yeg  mfio kdck kha  \n",
    "cokh kodjuck vn k fofvfo gqpojicmoqli opiyoa of kihsc \n",
    "nccqki oefc ynr2 juhpck. Fi c jhkklgm yok oMxr9V1x ya \n",
    "flofigvffic xvgfck. Fio kokfice\"\"\""
   ]
  },
  {
   "cell_type": "code",
   "execution_count": 28,
   "id": "2e8d87ea",
   "metadata": {},
   "outputs": [],
   "source": [
    "s=s.lower()"
   ]
  },
  {
   "cell_type": "code",
   "execution_count": 29,
   "id": "e381af4a",
   "metadata": {},
   "outputs": [],
   "source": [
    "s=list(s)"
   ]
  },
  {
   "cell_type": "code",
   "execution_count": 30,
   "id": "fa92e8ce",
   "metadata": {},
   "outputs": [],
   "source": [
    "d={}\n",
    "size=0\n",
    "for i in s:\n",
    "    if(i>='a'and i<='z'):\n",
    "        size+=1\n",
    "        if i not in d:\n",
    "            d[i]=1\n",
    "        else:\n",
    "            d[i]+=1"
   ]
  },
  {
   "cell_type": "code",
   "execution_count": 31,
   "id": "1fbb5de2",
   "metadata": {},
   "outputs": [],
   "source": [
    "for i in d:\n",
    "    d[i]=d[i]/size*100"
   ]
  },
  {
   "cell_type": "code",
   "execution_count": 32,
   "id": "72b9a9b6",
   "metadata": {},
   "outputs": [
    {
     "data": {
      "text/plain": [
       "{'c': 13.953488372093023,\n",
       " 'f': 10.852713178294573,\n",
       " 'k': 10.465116279069768,\n",
       " 'o': 9.689922480620156,\n",
       " 'i': 8.527131782945736,\n",
       " 'g': 5.426356589147287,\n",
       " 'm': 5.038759689922481,\n",
       " 'h': 5.038759689922481,\n",
       " 'q': 4.651162790697675,\n",
       " 'p': 3.488372093023256,\n",
       " 'd': 2.7131782945736433,\n",
       " 'n': 2.7131782945736433,\n",
       " 'v': 2.7131782945736433,\n",
       " 'e': 2.3255813953488373,\n",
       " 'y': 2.3255813953488373,\n",
       " 'a': 1.937984496124031,\n",
       " 'u': 1.937984496124031,\n",
       " 'l': 1.550387596899225,\n",
       " 'j': 1.550387596899225,\n",
       " 'r': 1.1627906976744187,\n",
       " 'x': 1.1627906976744187,\n",
       " 's': 0.7751937984496124}"
      ]
     },
     "execution_count": 32,
     "metadata": {},
     "output_type": "execute_result"
    }
   ],
   "source": [
    "dict(sorted(d.items(), key=lambda item: item[1],reverse=True))"
   ]
  },
  {
   "cell_type": "code",
   "execution_count": null,
   "id": "c408a487",
   "metadata": {},
   "outputs": [],
   "source": []
  }
 ],
 "metadata": {
  "kernelspec": {
   "display_name": "Python 3",
   "language": "python",
   "name": "python3"
  },
  "language_info": {
   "codemirror_mode": {
    "name": "ipython",
    "version": 3
   },
   "file_extension": ".py",
   "mimetype": "text/x-python",
   "name": "python",
   "nbconvert_exporter": "python",
   "pygments_lexer": "ipython3",
   "version": "3.8.8"
  }
 },
 "nbformat": 4,
 "nbformat_minor": 5
}
