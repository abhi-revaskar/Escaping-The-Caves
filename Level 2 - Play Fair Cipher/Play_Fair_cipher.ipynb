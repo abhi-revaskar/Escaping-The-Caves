{
 "cells": [
  {
   "cell_type": "markdown",
   "id": "dc77789d",
   "metadata": {},
   "source": [
    "### "
   ]
  },
  {
   "cell_type": "code",
   "execution_count": 95,
   "id": "500dde73",
   "metadata": {},
   "outputs": [
    {
     "data": {
      "text/plain": [
       "['C', 'R', 'Y', 'P', 'T', 'A', 'N', 'A', 'L', 'Y', 'S', 'I', 'S']"
      ]
     },
     "execution_count": 95,
     "metadata": {},
     "output_type": "execute_result"
    }
   ],
   "source": [
    "key=list(\"CRYPTANALYSIS\")\n",
    "key"
   ]
  },
  {
   "cell_type": "code",
   "execution_count": 96,
   "id": "9768af3c",
   "metadata": {},
   "outputs": [],
   "source": [
    "key_squere=key\n",
    "for i in range(65,91):\n",
    "    if chr(i)=='J':\n",
    "        continue\n",
    "    key_squere.append(chr(i))"
   ]
  },
  {
   "cell_type": "code",
   "execution_count": 97,
   "id": "ec457d28",
   "metadata": {},
   "outputs": [],
   "source": [
    "text=[]\n",
    "for i in range(len(key_squere)):\n",
    "    if key_squere[i] not in text:\n",
    "        text.append(key_squere[i])"
   ]
  },
  {
   "cell_type": "code",
   "execution_count": 129,
   "id": "74c2e6e0",
   "metadata": {},
   "outputs": [
    {
     "data": {
      "text/plain": [
       "[['C', 'R', 'Y', 'P', 'T'],\n",
       " ['A', 'N', 'L', 'S', 'I'],\n",
       " ['B', 'D', 'E', 'F', 'G'],\n",
       " ['H', 'K', 'M', 'O', 'Q'],\n",
       " ['U', 'V', 'W', 'X', 'Z']]"
      ]
     },
     "execution_count": 129,
     "metadata": {},
     "output_type": "execute_result"
    }
   ],
   "source": [
    "squere=[]\n",
    "k=0\n",
    "for i in range(5):\n",
    "    li=[]\n",
    "    for j in range(5):\n",
    "        li.append(text[k])\n",
    "        k+=1\n",
    "    squere.append(li)\n",
    "squere"
   ]
  },
  {
   "cell_type": "code",
   "execution_count": 130,
   "id": "08dc93ed",
   "metadata": {},
   "outputs": [],
   "source": [
    "cipher_text=\"\"\"DF ULYP XO CQD LFWC RUBHEDY, CQDYG LN XDYL EGIYIG LMP CQDYF. LYFNH HXPZ CQF YNILXKPB \"NDCB_AN_BBHCN\" PQ FQ CQPKZBK. OLC PMC UNUG YMB IPYDIDCQ OXY CMB LDZP AULHDFY. CX OALG RMB FWGI PMX BNTIP ZLSWS LFWFE PQ ZCYGY KIBAT XMNKI PMBYD\"\"\""
   ]
  },
  {
   "cell_type": "code",
   "execution_count": 142,
   "id": "3166d6c3",
   "metadata": {},
   "outputs": [],
   "source": [
    "cipher_text2=\"\"\"DF ULYP XO CQD LFWC RUBHEDY, CQDYG LN XDYL EGIYIG LMP CQDYF. LYFNH HXPZ CQF YNILXKPB \"NDCB_AN_BBHCN\" PQ FQ CQPKZBK. OLC PMC UNUG YMB IPYDIDCQ OXY CMB LDZP AULHDFY. CX OALG RMB FWGI PMX BNTIP ZLSWS LFWFE PQ ZCYGY KIBAT XMNKI PMBYD\"\"\""
   ]
  },
  {
   "cell_type": "code",
   "execution_count": 143,
   "id": "18cd0d06",
   "metadata": {},
   "outputs": [],
   "source": [
    "cipher_text=cipher_text.replace(\" \",\"\")\n",
    "# cipher_text.replace(\".\",\"\")"
   ]
  },
  {
   "cell_type": "code",
   "execution_count": 144,
   "id": "e2e1bb79",
   "metadata": {},
   "outputs": [
    {
     "data": {
      "text/plain": [
       "'DFULYPXOCQDLFWCRUBHEDYCQDYGLNXDYLEGIYIGLMPCQDYFLYFNHHXPZCQFYNILXKPBNDCBANBBHCNPQFQCQPKZBKOLCPMCUNUGYMBIPYDIDCQOXYCMBLDZPAULHDFYCXOALGRMBFWGIPMXBNTIPZLSWSLFWFEPQZCYGYKIBATXMNKIPMBYD'"
      ]
     },
     "execution_count": 144,
     "metadata": {},
     "output_type": "execute_result"
    }
   ],
   "source": [
    "cipher_text=cipher_text.replace(\".\",\"\")\n",
    "cipher_text1=[]\n",
    "for i in range(len(cipher_text)):\n",
    "    if ord(cipher_text[i]) not in range(65,91):\n",
    "        continue\n",
    "    cipher_text1.append(cipher_text[i])\n",
    "str1 = ''.join([str(elem) for elem in cipher_text1])\n",
    "str1"
   ]
  },
  {
   "cell_type": "code",
   "execution_count": 145,
   "id": "842d913f",
   "metadata": {},
   "outputs": [
    {
     "data": {
      "text/plain": [
       "180"
      ]
     },
     "execution_count": 145,
     "metadata": {},
     "output_type": "execute_result"
    }
   ],
   "source": [
    "len(str1)"
   ]
  },
  {
   "cell_type": "code",
   "execution_count": 146,
   "id": "26806e5b",
   "metadata": {},
   "outputs": [],
   "source": [
    "def ind(c):\n",
    "    for i in range(5):\n",
    "        for j in range(5):\n",
    "            if c==squere[i][j]:\n",
    "                return [i,j]"
   ]
  },
  {
   "cell_type": "code",
   "execution_count": 147,
   "id": "9fed12db",
   "metadata": {},
   "outputs": [],
   "source": [
    "p_split=[]\n",
    "n=len(str1)\n",
    "i=0\n",
    "ans=[]\n",
    "while i<n:\n",
    "    if ord(str1[i]) not in range(65,91):\n",
    "        i+=1\n",
    "        continue\n",
    "#     print(str1[i])\n",
    "    pair1=ind(str1[i])\n",
    "#     print(pair1)\n",
    "#     print(str1[i+1])\n",
    "    pair2=ind(str1[i+1])\n",
    "#     print(pair2)\n",
    "    i+=2\n",
    "    if pair1[0]==pair2[0]:\n",
    "        ans.append(squere[pair1[0]][(pair1[1]-1)%5])\n",
    "        ans.append(squere[pair2[0]][(pair2[1]-1)%5])\n",
    "    elif pair1[1]==pair2[1]:\n",
    "        ans.append(squere[(pair1[0]-1)%5][pair1[1]])\n",
    "        ans.append(squere[(pair2[0]-1)%5][pair2[1]])\n",
    "    else:\n",
    "        ans.append(squere[pair1[0]][pair2[1]])\n",
    "        ans.append(squere[pair2[0]][pair1[1]])\n",
    "       "
   ]
  },
  {
   "cell_type": "code",
   "execution_count": 148,
   "id": "9396798c",
   "metadata": {},
   "outputs": [
    {
     "data": {
      "text/plain": [
       "'BEWARYOFTHENEXTCHAMBERTHEREISVERYLITTLEIOYTHERESPEAKOUTXTHEPASSWORDABRACADABRATOGOTHROUGHMAYYOUHAVETHESTRENGTHFORTHENEXTCHAMBERTOFINDTHEEXITYOUFIRSTWILXLNEXEDTOUTTERMAGICWORDSTHERE'"
      ]
     },
     "execution_count": 148,
     "metadata": {},
     "output_type": "execute_result"
    }
   ],
   "source": [
    "ans1 = ''.join([str(elem) for elem in ans])\n",
    "ans1"
   ]
  },
  {
   "cell_type": "code",
   "execution_count": 149,
   "id": "e561d6dc",
   "metadata": {},
   "outputs": [],
   "source": [
    "ans2=[]\n",
    "k=0\n",
    "for i in range(len(cipher_text2)):\n",
    "    if ord(cipher_text2[i]) in range(65,91):\n",
    "        ans2.append(ans1[k])\n",
    "        k+=1\n",
    "    else:\n",
    "        ans2.append(cipher_text2[i])"
   ]
  },
  {
   "cell_type": "code",
   "execution_count": 150,
   "id": "8eb6ff71",
   "metadata": {},
   "outputs": [
    {
     "data": {
      "text/plain": [
       "'BE WARY OF THE NEXT CHAMBER, THERE IS VERY LITTLE IOY THERE. SPEAK OUTX THE PASSWORD \"ABRA_CA_DABRA\" TO GO THROUGH. MAY YOU HAVE THE STRENGTH FOR THE NEXT CHAMBER. TO FIND THE EXIT YOU FIRST WILXL NEXED TO UTTER MAGIC WORDS THERE'"
      ]
     },
     "execution_count": 150,
     "metadata": {},
     "output_type": "execute_result"
    }
   ],
   "source": [
    "ans3 = ''.join([str(elem) for elem in ans2])\n",
    "ans3"
   ]
  },
  {
   "cell_type": "markdown",
   "id": "e67dc125",
   "metadata": {},
   "source": [
    "### Password is \" ABRA_CA_DABRA\""
   ]
  }
 ],
 "metadata": {
  "kernelspec": {
   "display_name": "Python 3",
   "language": "python",
   "name": "python3"
  },
  "language_info": {
   "codemirror_mode": {
    "name": "ipython",
    "version": 3
   },
   "file_extension": ".py",
   "mimetype": "text/x-python",
   "name": "python",
   "nbconvert_exporter": "python",
   "pygments_lexer": "ipython3",
   "version": "3.8.8"
  }
 },
 "nbformat": 4,
 "nbformat_minor": 5
}
